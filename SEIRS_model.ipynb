{
 "cells": [
  {
   "cell_type": "code",
   "execution_count": null,
   "metadata": {},
   "outputs": [],
   "source": [
    "import numpy as np \n",
    "import pandas as pd \n",
    "import matplotlib as mpl \n",
    "import matplotlib.pyplot as plt \n",
    "import seaborn as sns"
   ]
  },
  {
   "cell_type": "code",
   "execution_count": null,
   "metadata": {},
   "outputs": [],
   "source": [
    "# Define arrays \n",
    "t = []\n",
    "S = []\n",
    "E = []\n",
    "I = [] \n",
    "R = []\n",
    "dS = [] \n",
    "dE = [] \n",
    "dI = [] \n",
    "dR = []"
   ]
  },
  {
   "cell_type": "code",
   "execution_count": null,
   "metadata": {},
   "outputs": [],
   "source": [
    "# Define initial variables \n",
    "S.append(8771761)    # No of population susceptible to Rubella\n",
    "E.append(142)        # No of population with symptoms of Rubella \n",
    "I.append(37)        # No of population infected with Rubella \n",
    "R.append(30)         # No of population recovered from Rubella "
   ]
  },
  {
   "cell_type": "code",
   "execution_count": null,
   "metadata": {},
   "outputs": [],
   "source": [
    "# Parameter values \n",
    "h = 1\n",
    "N = 1\n",
    "sigma = 0.309 \n",
    "beta = 0.00000002 \n",
    "alpha = 0.4 \n",
    "gamma = 0.1667 \n",
    "delta = 0.14 \n",
    "mu = 0.0012 \n",
    "theta = 0.0187"
   ]
  },
  {
   "cell_type": "code",
   "execution_count": null,
   "metadata": {},
   "outputs": [],
   "source": [
    "# Define system of differential equations \n",
    "# dS/dt \n",
    "def dS(R, E, S):\n",
    "    return (1 - sigma)*theta*N + delta*R - beta*S*E - mu*S \n",
    "# dE/dt\n",
    "def dE(S, E):\n",
    "    return beta*S*E - alpha*E - mu*E\n",
    "# dI/dt \n",
    "def dI(E, I):\n",
    "    return alpha*E - gamma*I - mu*I \n",
    "# dR/dt \n",
    "def dR(I, R):\n",
    "    return gamma*I + sigma*theta*N - delta*R - mu*R\n"
   ]
  },
  {
   "cell_type": "code",
   "execution_count": null,
   "metadata": {},
   "outputs": [],
   "source": [
    "for i in range(0,100):\n",
    "    t.append(i)\n",
    "    # Runge-Kutta Method Order 4 for dS/dt\n",
    "    k1 = h * dS(R[i], E[i], S[i])\n",
    "    k2 = h * dS(R[i]+(h/2), E[i]+(h/2), S[i]+(k1/2))\n",
    "    k3 = h * dS(R[i]+(h/2), E[i]+(h/2), S[i]+(k2/2))\n",
    "    k4 = h * dS(R[i]+h, E[i]+h, S[i]+k3)\n",
    "    S.append(S[i] + (1/6)*(k1 + 2*k2 + 2*k3 + k4))\n",
    "\n",
    "    # Runge-Kutta Method order 4 for dE/dt \n",
    "    l1 = h * dE(S[i], E[i]) \n",
    "    l2 = h * dE(S[i]+(h/2), E[i]+(l1/2)) \n",
    "    l3 = h * dE(S[i]+(h/2), E[i]+(l2/2)) \n",
    "    l4 = h * dE(S[i]+h, E[i]+l3)\n",
    "    E.append(E[i] + (1/6)*(l1 + 2*l2 + 2*l3 + l4))\n",
    "\n",
    "    # Runge-Kutta Method order 4 for dI/dt \n",
    "    m1 = h * dI(E[i], I[i]) \n",
    "    m2 = h * dI(E[i]+(h/2), I[i]+(m1/2))\n",
    "    m3 = h * dI(E[i]+(h/2), I[i]+(m2/2))\n",
    "    m4 = h * dI(E[i]+h, I[i]+m3)\n",
    "    I.append(I[i] + (1/6)*(m1 + 2*m2 + 2*m3 + m4))\n",
    "\n",
    "    # Runge-Kutta Method order 4 for dR/dt \n",
    "    n1 = h * dR(I[i], R[i]) \n",
    "    n2 = h * dR(I[i]+(h/2), R[i]+(n1/2)) \n",
    "    n3 = h * dR(I[i]+(h/2), R[i]+(n2/2)) \n",
    "    n4 = h * dR(I[i]+h, R[i]+n3)\n",
    "    R.append(R[i] + (1/6)*(n1 + 2*n2 + 2*n3 + n4))"
   ]
  },
  {
   "cell_type": "code",
   "execution_count": null,
   "metadata": {},
   "outputs": [],
   "source": [
    "t = list(range(0,101))\n",
    "d = {'t':t, 'S(t)':S, 'E(t)':E, 'I(t)':I, 'R(t)':R}\n",
    "df = pd.DataFrame(data=d)\n",
    "df"
   ]
  },
  {
   "cell_type": "code",
   "execution_count": null,
   "metadata": {},
   "outputs": [],
   "source": [
    "S_plot = sns.scatterplot(x='t', y='S(t)', data=df)"
   ]
  },
  {
   "cell_type": "code",
   "execution_count": null,
   "metadata": {},
   "outputs": [],
   "source": [
    "E_plot = sns.scatterplot(x='t', y='E(t)', data=df)"
   ]
  },
  {
   "cell_type": "code",
   "execution_count": null,
   "metadata": {},
   "outputs": [],
   "source": [
    "I_plot = sns.scatterplot(x='t', y='I(t)', data=df)"
   ]
  },
  {
   "cell_type": "code",
   "execution_count": null,
   "metadata": {},
   "outputs": [],
   "source": [
    "R_plot = sns.scatterplot(x='t', y='R(t)', data=df)"
   ]
  }
 ],
 "metadata": {
  "kernelspec": {
   "display_name": "Python 3 (ipykernel)",
   "language": "python",
   "name": "python3"
  },
  "language_info": {
   "codemirror_mode": {
    "name": "ipython",
    "version": 3
   },
   "file_extension": ".py",
   "mimetype": "text/x-python",
   "name": "python",
   "nbconvert_exporter": "python",
   "pygments_lexer": "ipython3",
   "version": "3.11.4"
  }
 },
 "nbformat": 4,
 "nbformat_minor": 4
}
